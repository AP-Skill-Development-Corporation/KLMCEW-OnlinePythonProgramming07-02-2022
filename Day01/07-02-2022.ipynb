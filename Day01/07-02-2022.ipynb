{
 "cells": [
  {
   "cell_type": "code",
   "execution_count": null,
   "id": "a4195bf2",
   "metadata": {},
   "outputs": [],
   "source": []
  },
  {
   "cell_type": "markdown",
   "id": "6616a168",
   "metadata": {},
   "source": [
    "MarkDown"
   ]
  },
  {
   "cell_type": "code",
   "execution_count": null,
   "id": "8260e1ef",
   "metadata": {},
   "outputs": [],
   "source": [
    "#codecell"
   ]
  },
  {
   "cell_type": "markdown",
   "id": "d820976d",
   "metadata": {},
   "source": [
    "- To execute cell: Shift + Enter\n",
    "- To convert code cell to markdown cell: Esc + m\n",
    "- To convert markdown cell to code cell: Esc + y"
   ]
  },
  {
   "cell_type": "markdown",
   "id": "ff5315b6",
   "metadata": {},
   "source": [
    "# Title\n",
    "## Heading 2\n",
    "### Heading 3\n",
    "#### Heading 4\n",
    "##### Heading 5"
   ]
  },
  {
   "cell_type": "markdown",
   "id": "c74c9eed",
   "metadata": {},
   "source": [
    "### Unordered list\n",
    "- line1\n",
    "- line2\n",
    "- line3\n",
    "    - subponit 1\n",
    "    - subpoint 2\n",
    "- line4\n",
    "\n",
    "### Ordered List\n",
    "1. list1\n",
    "2. kjsnfjfsfnvjfnfvjsf\n",
    "    1. skdnfjsnf\n",
    "    \n",
    "\n",
    "- **bold letters**\n",
    "- *italic*"
   ]
  },
  {
   "cell_type": "code",
   "execution_count": null,
   "id": "30f7f2b3",
   "metadata": {},
   "outputs": [],
   "source": []
  }
 ],
 "metadata": {
  "kernelspec": {
   "display_name": "Python 3 (ipykernel)",
   "language": "python",
   "name": "python3"
  },
  "language_info": {
   "codemirror_mode": {
    "name": "ipython",
    "version": 3
   },
   "file_extension": ".py",
   "mimetype": "text/x-python",
   "name": "python",
   "nbconvert_exporter": "python",
   "pygments_lexer": "ipython3",
   "version": "3.9.7"
  }
 },
 "nbformat": 4,
 "nbformat_minor": 5
}
